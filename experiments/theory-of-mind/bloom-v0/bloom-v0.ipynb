{
 "cells": [
  {
   "cell_type": "code",
   "execution_count": 1,
   "metadata": {},
   "outputs": [],
   "source": [
    "import os\n",
    "from dotenv import load_dotenv\n",
    "from pydantic import BaseModel\n",
    "\n",
    "from langchain.chat_models import ChatOpenAI\n",
    "from langchain.prompts import (\n",
    "    SystemMessagePromptTemplate,\n",
    ")\n",
    "from langchain.prompts import load_prompt, ChatPromptTemplate\n",
    "from langchain.schema import AIMessage, HumanMessage, BaseMessage\n",
    "\n",
    "from langchain_core.callbacks import BaseCallbackHandler"
   ]
  },
  {
   "cell_type": "code",
   "execution_count": 2,
   "metadata": {},
   "outputs": [
    {
     "data": {
      "text/plain": [
       "True"
      ]
     },
     "execution_count": 2,
     "metadata": {},
     "output_type": "execute_result"
    }
   ],
   "source": [
    "load_dotenv()"
   ]
  },
  {
   "cell_type": "code",
   "execution_count": 125,
   "metadata": {},
   "outputs": [],
   "source": [
    "API_URL = \"http://localhost:8000\""
   ]
  },
  {
   "cell_type": "code",
   "execution_count": 3,
   "metadata": {},
   "outputs": [],
   "source": [
    "def unpack_messages(messages):\n",
    "    unpacked = \"\"\n",
    "    for message in messages:\n",
    "        if isinstance(message, HumanMessage):\n",
    "            unpacked += f\"User: {message.content}\\n\"\n",
    "        elif isinstance(message, AIMessage):\n",
    "            unpacked += f\"AI: {message.content}\\n\"\n",
    "        # Add more conditions here if you're using other message types\n",
    "    return unpacked\n"
   ]
  },
  {
   "cell_type": "code",
   "execution_count": 4,
   "metadata": {},
   "outputs": [
    {
     "name": "stderr",
     "output_type": "stream",
     "text": [
      "/Users/13point5/Library/Caches/pypoetry/virtualenvs/course-lm-backend-OOVGKqfC-py3.11/lib/python3.11/site-packages/langchain_core/_api/deprecation.py:117: LangChainDeprecationWarning: The class `langchain_community.chat_models.openai.ChatOpenAI` was deprecated in langchain-community 0.0.10 and will be removed in 0.2.0. An updated version of the class exists in the langchain-openai package and should be used instead. To use it run `pip install -U langchain-openai` and import as `from langchain_openai import ChatOpenAI`.\n",
      "  warn_deprecated(\n"
     ]
    }
   ],
   "source": [
    "# llm = ChatOpenAI(model_name = \"gpt-3.5-turbo\", temperature=1.2, model_kwargs={\"top_p\": 0.5})\n",
    "# llm = ChatOpenAI(model_name = \"gpt-4\", temperature=1.2, model_kwargs={\"top_p\": 0.5})\n",
    "llm = ChatOpenAI(model_name = \"gpt-4\", temperature=1.2)\n",
    "\n",
    "SYSTEM_THOUGHT = load_prompt('prompts/thought.yaml')\n",
    "SYSTEM_RESPONSE = load_prompt('prompts/response.yaml')\n",
    "SYSTEM_USER_PREDICTION_THOUGHT = load_prompt('prompts/user_prediction_thought.yaml')\n",
    "\n",
    "system_thought = SystemMessagePromptTemplate(prompt=SYSTEM_THOUGHT)\n",
    "system_response = SystemMessagePromptTemplate(prompt=SYSTEM_RESPONSE)\n",
    "system_user_prediction_thought = SystemMessagePromptTemplate(prompt=SYSTEM_USER_PREDICTION_THOUGHT)"
   ]
  },
  {
   "cell_type": "code",
   "execution_count": 5,
   "metadata": {},
   "outputs": [],
   "source": [
    "messages = {\n",
    "\t\"thoughts\": [],\n",
    "\t\"responses\": [],\n",
    "\t\"user_prediction_thought\": []\n",
    "}"
   ]
  },
  {
   "cell_type": "markdown",
   "metadata": {},
   "source": [
    "Wonderings:\n",
    "- Why does the `think` step only consider the previous `thoughts` and not `responses`?"
   ]
  },
  {
   "cell_type": "code",
   "execution_count": 6,
   "metadata": {},
   "outputs": [],
   "source": [
    "def think(query: str):\n",
    "\t\"\"\"Generate Bloom's thought on the user.\"\"\"\n",
    "\n",
    "\tthought_prompt = ChatPromptTemplate.from_messages([\n",
    "\t\tsystem_thought,\n",
    "\t\t*messages[\"thoughts\"],\n",
    "\t\tHumanMessage(content=query)\n",
    "\t])\n",
    "\n",
    "\tchain = thought_prompt | llm \n",
    "\n",
    "\n",
    "\tclass SaveMessagesHandler(BaseCallbackHandler):\n",
    "\t\tdef on_llm_end(self, response, **kwargs):\n",
    "\t\t\tai_response = response.generations[0][0].text\n",
    "\n",
    "\t\t\tmessages[\"thoughts\"].append(HumanMessage(content=query))\n",
    "\t\t\tmessages[\"thoughts\"].append(AIMessage(content=ai_response))\n",
    "\n",
    "\tsave_messages_handler = SaveMessagesHandler()\n",
    "\n",
    "\treturn chain.invoke({}, config={\n",
    "\t\t\"callbacks\": [save_messages_handler]\n",
    "\t})"
   ]
  },
  {
   "cell_type": "code",
   "execution_count": 7,
   "metadata": {},
   "outputs": [],
   "source": [
    "def respond(thought: str, query: str):\n",
    "\t\"\"\"Generate Bloom's response to the user.\"\"\"\n",
    "\n",
    "\tresponse_prompt = ChatPromptTemplate.from_messages([\n",
    "\t\tsystem_response,\n",
    "\t\t*messages[\"responses\"],\n",
    "\t\tHumanMessage(content=query)\n",
    "\t])\n",
    "\n",
    "\tchain = response_prompt | llm \n",
    "\n",
    "\n",
    "\tclass SaveMessagesHandler(BaseCallbackHandler):\n",
    "\t\tdef on_llm_end(self, response, **kwargs):\n",
    "\t\t\tai_response = response.generations[0][0].text\n",
    "\n",
    "\t\t\tmessages[\"responses\"].append(HumanMessage(content=query))\n",
    "\t\t\tmessages[\"responses\"].append(AIMessage(content=ai_response))\n",
    "\n",
    "\tsave_messages_handler = SaveMessagesHandler()\n",
    "\n",
    "\treturn chain.invoke({\"thought\": thought}, config={\n",
    "\t\t\"callbacks\": [save_messages_handler]\n",
    "\t})"
   ]
  },
  {
   "cell_type": "markdown",
   "metadata": {},
   "source": [
    "Wonderings:\n",
    "- Where is `user_prediction_thought` used??"
   ]
  },
  {
   "cell_type": "code",
   "execution_count": 8,
   "metadata": {},
   "outputs": [],
   "source": [
    "def think_user_prediction():\n",
    "\t\"\"\"Generate a thought about what the user is going to say\"\"\"\n",
    "\n",
    "\tprompt = ChatPromptTemplate.from_messages([\n",
    "\t\tsystem_user_prediction_thought,\n",
    "\t])\n",
    "\n",
    "\tchain = prompt | llm\n",
    "\n",
    "\thistory = unpack_messages(messages[\"responses\"])\n",
    "\n",
    "\tuser_prediction_thought = chain.invoke({\"history\": history})\n",
    "\n",
    "\tmessages[\"user_prediction_thought\"].append(user_prediction_thought)\n"
   ]
  },
  {
   "cell_type": "code",
   "execution_count": 9,
   "metadata": {},
   "outputs": [],
   "source": [
    "def chat(query: str ) -> tuple[str, str]:\n",
    "\tthought = think(query=query)\n",
    "\n",
    "\tresponse = respond(thought=thought, query=query)\n",
    "\n",
    "\tthink_user_prediction()\n",
    "\n",
    "\treturn thought, response\n"
   ]
  },
  {
   "cell_type": "code",
   "execution_count": 10,
   "metadata": {},
   "outputs": [
    {
     "data": {
      "text/plain": [
       "(AIMessage(content=\"Predicted User Need: \\n\\nThe user is looking for a clear explanation that distinguishes between the terms constructionism and constructivism.\\n\\nEnhanced Prediction with Additional Data:\\n\\nAdditional relevant data, such as the user's knowledge level or background in learning theories, whether this request relates to their work, the reason the query is raised (a study assignment, curiosity or clarifying a discussion point), can enhance the way I frame and tailor the fitting information.\\n\\nClarifying Details: \\n\\nThe theory they comprehend better among the two could influence how the other is dissected in comparison. If its part of their job, a more comprehensive analysis could be deemed useful. Meanwhile, descriptive explanations for casual learners, and scholastic sources/citations will be highly effective for students preparing for a paper/assignment.\", response_metadata={'token_usage': {'completion_tokens': 157, 'prompt_tokens': 84, 'total_tokens': 241}, 'model_name': 'gpt-4', 'system_fingerprint': None, 'finish_reason': 'stop', 'logprobs': None}),\n",
       " AIMessage(content=\"I can certainly help clarify these two ideas for you. Constructivism and constructionism are similar-sounding terms yet pertain to different aspects of learning.\\n\\n**Constructivism** is a theory about how people learn. It posits that people construct their understanding and knowledge of the world through experiencing things and reflecting on those experiences. In essence, they are actively involved in the process of building knowledge, rather than just passively receiving information. Knowledge acquisition, according to this theory, comes from interaction/engagement with one's environment.\\n\\nProminent figures in constructivist theory include Jean Piaget, who emphasized how individuals process and validate new information into their current understandings, and Lev Vygotsky, who emphasized the sociocultural context of knowledge construction.\\n\\nLet's transition to **constructionism:** this is pedagogical view, largely championed by Seymour Papert. While it builds on the constructivist ideas of learning actively and through experience, it specifically emphasizes the role of creating a tangible product in the learning experience. Constructionism argues that learning is most effective when part of an activity the learner experiences as constructing a meaningful product. \\n\\nIn simpler terms - any experience in which you're actively constructing something in the external world (it could be anything, like a cake, poem, sand building, piece of software), it enhances your learning.\\n\\nWhile these two theories hail from similar root ideas, their purposes and emphases are unique. Can you see how these theories might apply differently in an educational setting? Would you like more information on any specific theory?\\n\", response_metadata={'token_usage': {'completion_tokens': 309, 'prompt_tokens': 377, 'total_tokens': 686}, 'model_name': 'gpt-4', 'system_fingerprint': None, 'finish_reason': 'stop', 'logprobs': None}))"
      ]
     },
     "execution_count": 10,
     "metadata": {},
     "output_type": "execute_result"
    }
   ],
   "source": [
    "chat(\"I'm not able to understand the difference between constructionism and constructivism\")"
   ]
  },
  {
   "cell_type": "code",
   "execution_count": 11,
   "metadata": {},
   "outputs": [
    {
     "data": {
      "text/plain": [
       "{'thoughts': [HumanMessage(content=\"I'm not able to understand the difference between constructionism and constructivism\"),\n",
       "  AIMessage(content=\"Predicted User Need: \\n\\nThe user is looking for a clear explanation that distinguishes between the terms constructionism and constructivism.\\n\\nEnhanced Prediction with Additional Data:\\n\\nAdditional relevant data, such as the user's knowledge level or background in learning theories, whether this request relates to their work, the reason the query is raised (a study assignment, curiosity or clarifying a discussion point), can enhance the way I frame and tailor the fitting information.\\n\\nClarifying Details: \\n\\nThe theory they comprehend better among the two could influence how the other is dissected in comparison. If its part of their job, a more comprehensive analysis could be deemed useful. Meanwhile, descriptive explanations for casual learners, and scholastic sources/citations will be highly effective for students preparing for a paper/assignment.\")],\n",
       " 'responses': [HumanMessage(content=\"I'm not able to understand the difference between constructionism and constructivism\"),\n",
       "  AIMessage(content=\"I can certainly help clarify these two ideas for you. Constructivism and constructionism are similar-sounding terms yet pertain to different aspects of learning.\\n\\n**Constructivism** is a theory about how people learn. It posits that people construct their understanding and knowledge of the world through experiencing things and reflecting on those experiences. In essence, they are actively involved in the process of building knowledge, rather than just passively receiving information. Knowledge acquisition, according to this theory, comes from interaction/engagement with one's environment.\\n\\nProminent figures in constructivist theory include Jean Piaget, who emphasized how individuals process and validate new information into their current understandings, and Lev Vygotsky, who emphasized the sociocultural context of knowledge construction.\\n\\nLet's transition to **constructionism:** this is pedagogical view, largely championed by Seymour Papert. While it builds on the constructivist ideas of learning actively and through experience, it specifically emphasizes the role of creating a tangible product in the learning experience. Constructionism argues that learning is most effective when part of an activity the learner experiences as constructing a meaningful product. \\n\\nIn simpler terms - any experience in which you're actively constructing something in the external world (it could be anything, like a cake, poem, sand building, piece of software), it enhances your learning.\\n\\nWhile these two theories hail from similar root ideas, their purposes and emphases are unique. Can you see how these theories might apply differently in an educational setting? Would you like more information on any specific theory?\\n\")],\n",
       " 'user_prediction_thought': [AIMessage(content='Based on the complexity of these concepts in the user’s query, the user could request further examples of how these theories work in practice. They may also ask more about the prominent figures behind constructivism, such as Jean Piaget and Lev Vygotsky, or want a better understanding about how these theories could apply to a modern classroom setting.', response_metadata={'token_usage': {'completion_tokens': 69, 'prompt_tokens': 367, 'total_tokens': 436}, 'model_name': 'gpt-4', 'system_fingerprint': None, 'finish_reason': 'stop', 'logprobs': None})]}"
      ]
     },
     "execution_count": 11,
     "metadata": {},
     "output_type": "execute_result"
    }
   ],
   "source": [
    "messages"
   ]
  },
  {
   "cell_type": "code",
   "execution_count": 12,
   "metadata": {},
   "outputs": [
    {
     "name": "stdout",
     "output_type": "stream",
     "text": [
      "Predicted User Need: \n",
      "\n",
      "The user is looking for a clear explanation that distinguishes between the terms constructionism and constructivism.\n",
      "\n",
      "Enhanced Prediction with Additional Data:\n",
      "\n",
      "Additional relevant data, such as the user's knowledge level or background in learning theories, whether this request relates to their work, the reason the query is raised (a study assignment, curiosity or clarifying a discussion point), can enhance the way I frame and tailor the fitting information.\n",
      "\n",
      "Clarifying Details: \n",
      "\n",
      "The theory they comprehend better among the two could influence how the other is dissected in comparison. If its part of their job, a more comprehensive analysis could be deemed useful. Meanwhile, descriptive explanations for casual learners, and scholastic sources/citations will be highly effective for students preparing for a paper/assignment.\n"
     ]
    }
   ],
   "source": [
    "print(messages['thoughts'][1].content)"
   ]
  },
  {
   "cell_type": "code",
   "execution_count": null,
   "metadata": {},
   "outputs": [],
   "source": []
  }
 ],
 "metadata": {
  "kernelspec": {
   "display_name": "course-lm-backend-OOVGKqfC-py3.11",
   "language": "python",
   "name": "python3"
  },
  "language_info": {
   "codemirror_mode": {
    "name": "ipython",
    "version": 3
   },
   "file_extension": ".py",
   "mimetype": "text/x-python",
   "name": "python",
   "nbconvert_exporter": "python",
   "pygments_lexer": "ipython3",
   "version": "3.11.4"
  }
 },
 "nbformat": 4,
 "nbformat_minor": 2
}
